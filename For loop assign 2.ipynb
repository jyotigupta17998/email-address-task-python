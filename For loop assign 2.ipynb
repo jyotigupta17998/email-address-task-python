{
 "cells": [
  {
   "cell_type": "markdown",
   "id": "3d35d460-cded-441d-9e24-7dc398c6ffe5",
   "metadata": {},
   "source": [
    "# Task 1:"
   ]
  },
  {
   "cell_type": "markdown",
   "id": "f4c1bf3a-551f-4e81-8eb3-bc00f958fa2e",
   "metadata": {},
   "source": [
    "### You have a nested list as below:\n",
    "\n",
    "indian_employees = [[\"Raj\", \"Patel\"], [\"Priya\", \"Sharma\"],[\"Amit\", \"Kumar\"],[\"Neha\", \"Singh\"]]\n",
    "\n",
    "your have to create an email address for each employee.\n",
    "\n",
    "Email address should be there : firstname+lastname@gmail.com\n",
    "\n",
    "Expected output:\n",
    "\n",
    "RajPatel@gmail.com\n",
    "\n",
    "PriyaSharma@gmail.com\n",
    "\n",
    "\n",
    "You have to create email addresses for each employee."
   ]
  },
  {
   "cell_type": "code",
   "execution_count": 7,
   "id": "88aab4fe-6637-450a-94fa-5cb08abc76f0",
   "metadata": {},
   "outputs": [
    {
     "name": "stdout",
     "output_type": "stream",
     "text": [
      "rajpatel@gmail.com\n",
      "priyasharma@gmail.com\n",
      "amitkumar@gmail.com\n",
      "nehasingh@gmail.com\n"
     ]
    }
   ],
   "source": [
    "indian_employees = [[\"Raj\", \"Patel\"], [\"Priya\", \"Sharma\"],[\"Amit\", \"Kumar\"],[\"Neha\", \"Singh\"]]\n",
    "\n",
    "email_addresses = []\n",
    "\n",
    "for employee in indian_employees:\n",
    "    first_name = employee[0].lower()\n",
    "    last_name = employee[1].lower()\n",
    "    email = first_name + last_name + \"@gmail.com\"\n",
    "    email_addresses.append(email)\n",
    "\n",
    "for email in email_addresses:\n",
    "    print(email)"
   ]
  },
  {
   "cell_type": "code",
   "execution_count": null,
   "id": "296be924-6c73-4493-b2d8-ae88ac676086",
   "metadata": {},
   "outputs": [],
   "source": []
  }
 ],
 "metadata": {
  "kernelspec": {
   "display_name": "Python 3 (ipykernel)",
   "language": "python",
   "name": "python3"
  },
  "language_info": {
   "codemirror_mode": {
    "name": "ipython",
    "version": 3
   },
   "file_extension": ".py",
   "mimetype": "text/x-python",
   "name": "python",
   "nbconvert_exporter": "python",
   "pygments_lexer": "ipython3",
   "version": "3.12.4"
  }
 },
 "nbformat": 4,
 "nbformat_minor": 5
}
